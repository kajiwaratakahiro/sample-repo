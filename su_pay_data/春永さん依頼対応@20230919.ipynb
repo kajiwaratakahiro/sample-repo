{
 "cells": [
  {
   "cell_type": "code",
   "execution_count": null,
   "id": "fe5be70e-6ad1-49e2-a9ad-d35593db64e4",
   "metadata": {},
   "outputs": [],
   "source": [
    "import pandas as pd\n",
    "from google.cloud import bigquery\n",
    "# プロジェクトIDの指定\n",
    "project_id = 'inunaki'\n",
    "# authが終わっていたら普通にクライアント認証は通る\n",
    "client = bigquery.Client(project=project_id)"
   ]
  },
  {
   "cell_type": "code",
   "execution_count": null,
   "id": "e5fde6f0-2c3c-4e31-b91a-aaac0375b1a5",
   "metadata": {},
   "outputs": [],
   "source": [
    "query = \"\"\"\n",
    "WITH senge_data AS (\n",
    "  -- 宣言データについて\n",
    "  SELECT  DISTINCT customer_id, 1 AS senge_flg\n",
    "  FROM `inunaki.dwd_action_0001.dwd_karte_user_use_coupon` \n",
    "  WHERE ym BETWEEN \"2023-09-01\" AND \"2023-09-19\"\n",
    "),\n",
    "coupon_data AS(\n",
    "  -- クーポン一覧を見た顧客\n",
    "  SELECT DISTINCT customer_id, 1 AS coupon_view_flg\n",
    "  FROM `inunaki.dwd_action_0001.dwd_karte_user_view_couponlist`\n",
    "  WHERE ym BETWEEN \"2023-09-01\" AND \"2023-09-19\"\n",
    "),\n",
    "home_data AS(\n",
    "  -- ホームを見た顧客\n",
    "  SELECT DISTINCT customer_id, 1 AS home_flg\n",
    "  FROM `inunaki.dwd_action_0001.dwd_karte_supay_accesshome`\n",
    "  WHERE ym BETWEEN \"2023-09-01\" AND \"2023-09-19\"\n",
    ")\n",
    "SELECT customercd, COALESCE(home_flg, 0) AS home_flg, COALESCE(coupon_view_flg, 0) AS coupon_view_flg, COALESCE(senge_flg, 0) AS senge_flg\n",
    "FROM home_data\n",
    "LEFT JOIN coupon_data\n",
    "ON home_data.customer_id = coupon_data.customer_id\n",
    "LEFT JOIN senge_data\n",
    "ON home_data.customer_id = senge_data.customer_id\n",
    "LEFT JOIN `inunaki.dim_crm_0001.dim_crm_customer_md5` md5_cus\n",
    "ON home_data.customer_id = md5_cus.customercd_md5\n",
    "\n",
    "\"\"\"\n",
    "# #データフレームに変換\n",
    "df = client.query(query).to_dataframe()\n",
    "\n",
    "df = df.rename(columns={\"customercd\":\"会員ID\",\"home_flg\":\"ホーム利用の有無\",\"coupon_view_flg\":\"クーポンタブの有無\",\"senge_flg\":\"宣言の有無\"})\n",
    "df.to_csv(\"9月までのSU-PAY利用状況.csv\",index=False, encoding=\"utf_8_sig\")"
   ]
  }
 ],
 "metadata": {
  "kernelspec": {
   "display_name": "Python (Local)",
   "language": "python",
   "name": "local-base"
  },
  "language_info": {
   "codemirror_mode": {
    "name": "ipython",
    "version": 3
   },
   "file_extension": ".py",
   "mimetype": "text/x-python",
   "name": "python",
   "nbconvert_exporter": "python",
   "pygments_lexer": "ipython3",
   "version": "3.7.12"
  }
 },
 "nbformat": 4,
 "nbformat_minor": 5
}
